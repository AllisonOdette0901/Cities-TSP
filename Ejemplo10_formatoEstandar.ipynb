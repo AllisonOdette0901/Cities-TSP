{
  "nbformat": 4,
  "nbformat_minor": 0,
  "metadata": {
    "colab": {
      "name": "Ejemplo10_formatoEstandar.ipynb",
      "provenance": [],
      "collapsed_sections": [],
      "authorship_tag": "ABX9TyNr72/jXM+4qJN+Jno/q7vk",
      "include_colab_link": true
    },
    "kernelspec": {
      "name": "python3",
      "display_name": "Python 3"
    },
    "language_info": {
      "name": "python"
    }
  },
  "cells": [
    {
      "cell_type": "markdown",
      "metadata": {
        "id": "view-in-github",
        "colab_type": "text"
      },
      "source": [
        "<a href=\"https://colab.research.google.com/github/AllisonOdette0901/Cities-TSP/blob/main/Ejemplo10_formatoEstandar.ipynb\" target=\"_parent\"><img src=\"https://colab.research.google.com/assets/colab-badge.svg\" alt=\"Open In Colab\"/></a>"
      ]
    },
    {
      "cell_type": "markdown",
      "metadata": {
        "id": "_sQmC-kmOaDl"
      },
      "source": [
        "# **Código para pasar a formato estándar:**\n"
      ]
    },
    {
      "cell_type": "code",
      "metadata": {
        "colab": {
          "base_uri": "https://localhost:8080/"
        },
        "id": "98TCY0b8Oo5-",
        "outputId": "64c4d6a6-109d-4c90-d178-fc79a1590642"
      },
      "source": [
        "import numpy as np\n",
        "\n",
        "A = np.array([[-2, -1], [-2, -3]])\n",
        "b = np.array([-12, -18])\n",
        "\n",
        "m, n = A.shape\n",
        "Aux = np.zeros([m, n+m])\n",
        "\n",
        "# primeras n columnas\n",
        "for j in range(0,n):\n",
        "        Aux[:,j] = A[:,j]\n",
        "# los unos\n",
        "\n",
        "for i in range(0,m):\n",
        "        Aux[i,n+i] = 1\n",
        "        #si b[i] es negativo, entonces\n",
        "        if b[i] < 0:\n",
        "        # multiplicar por -1 las filas de Aux\n",
        "          Aux[i,:] = -1.0*Aux[i,:]\n",
        "        # multiplicar por -1 las filas de b\n",
        "          b[i] = -b[i]\n",
        "\n",
        "Aux, b\n"
      ],
      "execution_count": 1,
      "outputs": [
        {
          "output_type": "execute_result",
          "data": {
            "text/plain": [
              "(array([[ 2.,  1., -1., -0.],\n",
              "        [ 2.,  3., -0., -1.]]), array([12, 18]))"
            ]
          },
          "metadata": {},
          "execution_count": 1
        }
      ]
    }
  ]
}